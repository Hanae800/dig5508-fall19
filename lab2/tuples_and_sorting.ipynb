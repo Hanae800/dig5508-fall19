{
 "nbformat": 4,
 "nbformat_minor": 2,
 "metadata": {
  "language_info": {
   "name": "python",
   "codemirror_mode": {
    "name": "ipython",
    "version": 3
   }
  },
  "orig_nbformat": 2,
  "file_extension": ".py",
  "mimetype": "text/x-python",
  "name": "python",
  "npconvert_exporter": "python",
  "pygments_lexer": "ipython3",
  "version": 3
 },
 "cells": [
  {
   "cell_type": "markdown",
   "execution_count": null,
   "metadata": {},
   "outputs": [],
   "source": [
    "# Lab 2 Hints\n",
    "## Tuples"
   ]
  },
  {
   "cell_type": "code",
   "execution_count": 3,
   "metadata": {},
   "outputs": [
    {
     "name": "stdout",
     "output_type": "stream",
     "text": "0\n0\nString\nString\n"
    }
   ],
   "source": [
    "# Tuples are values with values at specific locations\n",
    "x = (0, \"String\")\n",
    "a, b = x\n",
    "print(a)\n",
    "print(x[0])\n",
    "print(b)\n",
    "print(x[1])"
   ]
  },
  {
   "cell_type": "code",
   "execution_count": 11,
   "metadata": {},
   "outputs": [
    {
     "data": {
      "text/plain": "[1, 3, 6, 10, 15, 21, 28, 36, 45, 55]"
     },
     "execution_count": 11,
     "metadata": {},
     "output_type": "execute_result"
    }
   ],
   "source": [
    "# You can create arrays by appending values to them. This is particularly useful when you want to \"accumulate\" a value based on a set of values from a list.\n",
    "def generateList(num):\n",
    "    arr = []\n",
    "    for x in range(num):\n",
    "        arr.append(x)\n",
    "values = generateList(10)\n",
    "\n",
    "def calculateRunningTotal(input):\n",
    "    runningTotals = []\n",
    "    sum = 0\n",
    "    for x in input:\n",
    "        sum = sum+x\n",
    "        runningTotals.append(sum)\n",
    "    return runningTotals\n",
    "\n",
    "# We produce a new list based on the previous list without modifying the previous list.\n",
    "calculateRunningTotal(values)\n"
   ]
  },
  {
   "cell_type": "code",
   "execution_count": 13,
   "metadata": {},
   "outputs": [
    {
     "data": {
      "text/plain": "[(0, 'a', 1),\n (1, 'bc', 2),\n (2, 'cde', 3),\n (3, 'def', 3),\n (4, 'efgy', 4),\n (5, 'f', 1),\n (6, 'g', 1),\n (7, 'h', 1),\n (8, 'i', 1),\n (9, 'j', 1)]"
     },
     "execution_count": 13,
     "metadata": {},
     "output_type": "execute_result"
    }
   ],
   "source": [
    "# This means you can also append tuples with different components\n",
    "strArray = [\"a\",\"bc\",\"cde\",\"def\",\"efgy\",\"f\",\"g\",\"h\",\"i\",\"j\"]\n",
    "lengths = []\n",
    "for count, value in enumerate(strArray):\n",
    "    lengths.append((count,value,len(value)))\n",
    "lengths"
   ]
  },
  {
   "cell_type": "code",
   "execution_count": null,
   "metadata": {},
   "outputs": [],
   "source": [
    "# Finally, you can sort these using either the sort method (array.sort()) or sorted(array):\n",
    "\n",
    "sortedResult = sort(lengths,key="
   ]
  }
 ]
}